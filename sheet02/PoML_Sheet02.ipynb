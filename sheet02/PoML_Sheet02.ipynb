{
  "cells": [
    {
      "cell_type": "markdown",
      "metadata": {
        "id": "szKKtdSDe4Oc"
      },
      "source": [
        "# Principles of Machine Learning WiSe23/24\n",
        "## exercise 2\n",
        "### getting used to the method of least squares\n",
        "#### due: November 19, 2023"
      ]
    },
    {
      "cell_type": "markdown",
      "metadata": {
        "id": "Cel9CD8hfL7X"
      },
      "source": [
        "---\n",
        "task 2.1"
      ]
    },
    {
      "cell_type": "code",
      "execution_count": 5,
      "metadata": {
        "colab": {
          "base_uri": "https://localhost:8080/",
          "height": 445
        },
        "id": "iSRsjytee_Kh",
        "outputId": "cd8e6563-b382-447e-fac5-a48484c4e8d7"
      },
      "outputs": [
        {
          "name": "stderr",
          "output_type": "stream",
          "text": [
            "C:\\Users\\fryde\\AppData\\Local\\Temp\\ipykernel_13088\\1415864366.py:2: FutureWarning: In the future `np.object` will be defined as the corresponding NumPy scalar.\n",
            "  data = np.loadtxt('whData.dat', dtype=np.object, comments='#', delimiter=None)\n"
          ]
        },
        {
          "ename": "AttributeError",
          "evalue": "module 'numpy' has no attribute 'object'.\n`np.object` was a deprecated alias for the builtin `object`. To avoid this error in existing code, use `object` by itself. Doing this will not modify any behavior and is safe. \nThe aliases was originally deprecated in NumPy 1.20; for more details and guidance see the original release note at:\n    https://numpy.org/devdocs/release/1.20.0-notes.html#deprecations",
          "output_type": "error",
          "traceback": [
            "\u001b[1;31m---------------------------------------------------------------------------\u001b[0m",
            "\u001b[1;31mAttributeError\u001b[0m                            Traceback (most recent call last)",
            "\u001b[1;32mc:\\Users\\fryde\\Documents\\projects\\PoML\\sheet02\\PoML_Sheet02.ipynb Cell 3\u001b[0m line \u001b[0;36m2\n\u001b[0;32m      <a href='vscode-notebook-cell:/c%3A/Users/fryde/Documents/projects/PoML/sheet02/PoML_Sheet02.ipynb#W2sZmlsZQ%3D%3D?line=0'>1</a>\u001b[0m \u001b[39mimport\u001b[39;00m \u001b[39mnumpy\u001b[39;00m \u001b[39mas\u001b[39;00m \u001b[39mnp\u001b[39;00m\n\u001b[1;32m----> <a href='vscode-notebook-cell:/c%3A/Users/fryde/Documents/projects/PoML/sheet02/PoML_Sheet02.ipynb#W2sZmlsZQ%3D%3D?line=1'>2</a>\u001b[0m data \u001b[39m=\u001b[39m np\u001b[39m.\u001b[39mloadtxt(\u001b[39m'\u001b[39m\u001b[39mwhData.dat\u001b[39m\u001b[39m'\u001b[39m, dtype\u001b[39m=\u001b[39mnp\u001b[39m.\u001b[39;49mobject, comments\u001b[39m=\u001b[39m\u001b[39m'\u001b[39m\u001b[39m#\u001b[39m\u001b[39m'\u001b[39m, delimiter\u001b[39m=\u001b[39m\u001b[39mNone\u001b[39;00m)\n\u001b[0;32m      <a href='vscode-notebook-cell:/c%3A/Users/fryde/Documents/projects/PoML/sheet02/PoML_Sheet02.ipynb#W2sZmlsZQ%3D%3D?line=2'>3</a>\u001b[0m w \u001b[39m=\u001b[39m data[:,\u001b[39m0\u001b[39m]\u001b[39m.\u001b[39mastype(\u001b[39mfloat\u001b[39m)\n\u001b[0;32m      <a href='vscode-notebook-cell:/c%3A/Users/fryde/Documents/projects/PoML/sheet02/PoML_Sheet02.ipynb#W2sZmlsZQ%3D%3D?line=3'>4</a>\u001b[0m h \u001b[39m=\u001b[39m data[:,\u001b[39m1\u001b[39m]\u001b[39m.\u001b[39mastype(\u001b[39mfloat\u001b[39m)\n",
            "File \u001b[1;32mc:\\Users\\fryde\\miniconda3\\envs\\CuVi\\Lib\\site-packages\\numpy\\__init__.py:324\u001b[0m, in \u001b[0;36m__getattr__\u001b[1;34m(attr)\u001b[0m\n\u001b[0;32m    319\u001b[0m     warnings\u001b[39m.\u001b[39mwarn(\n\u001b[0;32m    320\u001b[0m         \u001b[39mf\u001b[39m\u001b[39m\"\u001b[39m\u001b[39mIn the future `np.\u001b[39m\u001b[39m{\u001b[39;00mattr\u001b[39m}\u001b[39;00m\u001b[39m` will be defined as the \u001b[39m\u001b[39m\"\u001b[39m\n\u001b[0;32m    321\u001b[0m         \u001b[39m\"\u001b[39m\u001b[39mcorresponding NumPy scalar.\u001b[39m\u001b[39m\"\u001b[39m, \u001b[39mFutureWarning\u001b[39;00m, stacklevel\u001b[39m=\u001b[39m\u001b[39m2\u001b[39m)\n\u001b[0;32m    323\u001b[0m \u001b[39mif\u001b[39;00m attr \u001b[39min\u001b[39;00m __former_attrs__:\n\u001b[1;32m--> 324\u001b[0m     \u001b[39mraise\u001b[39;00m \u001b[39mAttributeError\u001b[39;00m(__former_attrs__[attr])\n\u001b[0;32m    326\u001b[0m \u001b[39mif\u001b[39;00m attr \u001b[39m==\u001b[39m \u001b[39m'\u001b[39m\u001b[39mtesting\u001b[39m\u001b[39m'\u001b[39m:\n\u001b[0;32m    327\u001b[0m     \u001b[39mimport\u001b[39;00m \u001b[39mnumpy\u001b[39;00m\u001b[39m.\u001b[39;00m\u001b[39mtesting\u001b[39;00m \u001b[39mas\u001b[39;00m \u001b[39mtesting\u001b[39;00m\n",
            "\u001b[1;31mAttributeError\u001b[0m: module 'numpy' has no attribute 'object'.\n`np.object` was a deprecated alias for the builtin `object`. To avoid this error in existing code, use `object` by itself. Doing this will not modify any behavior and is safe. \nThe aliases was originally deprecated in NumPy 1.20; for more details and guidance see the original release note at:\n    https://numpy.org/devdocs/release/1.20.0-notes.html#deprecations"
          ]
        }
      ],
      "source": [
        "import numpy as np\n",
        "data = np.loadtxt('whData.dat', dtype=np.object, comments='#', delimiter=None)\n",
        "w = data[:,0].astype(float)\n",
        "h = data[:,1].astype(float)"
      ]
    },
    {
      "cell_type": "markdown",
      "metadata": {
        "id": "cdLVz_oKgHm-"
      },
      "source": [
        "task 2.1.1"
      ]
    },
    {
      "cell_type": "code",
      "execution_count": null,
      "metadata": {
        "id": "ulszOOF3gJTd"
      },
      "outputs": [],
      "source": []
    },
    {
      "cell_type": "markdown",
      "metadata": {
        "id": "ieWhT6N-gJvW"
      },
      "source": [
        "task 2.1.2"
      ]
    },
    {
      "cell_type": "code",
      "execution_count": null,
      "metadata": {
        "id": "PCRMuJoCgLUb"
      },
      "outputs": [],
      "source": []
    },
    {
      "cell_type": "markdown",
      "metadata": {
        "id": "bZyCxXnKgLga"
      },
      "source": [
        "task 2.1.3"
      ]
    },
    {
      "cell_type": "code",
      "execution_count": null,
      "metadata": {
        "id": "hoMEJyxMgNMd"
      },
      "outputs": [],
      "source": []
    },
    {
      "cell_type": "markdown",
      "metadata": {
        "id": "58h97MsYgOwv"
      },
      "source": [
        "---\n",
        "task 2.2.1"
      ]
    },
    {
      "cell_type": "code",
      "execution_count": 117,
      "metadata": {
        "id": "iB54SNYFgYJF"
      },
      "outputs": [],
      "source": [
        "import numpy as np\n",
        "import matplotlib.pyplot as plt"
      ]
    },
    {
      "cell_type": "code",
      "execution_count": 118,
      "metadata": {},
      "outputs": [],
      "source": [
        "data = np.genfromtxt('myspace.csv', delimiter=',')\n",
        "data = data[:, 1]\n",
        "h = np.trim_zeros(data, 'f') #deleting front zeros\n",
        "t = np.arange(1, len(h) + 1)"
      ]
    },
    {
      "cell_type": "code",
      "execution_count": 119,
      "metadata": {},
      "outputs": [
        {
          "data": {
            "text/plain": [
              "[<matplotlib.lines.Line2D at 0x19259799fd0>]"
            ]
          },
          "execution_count": 119,
          "metadata": {},
          "output_type": "execute_result"
        },
        {
          "data": {
            "image/png": "[encoded data removed]",
            "text/plain": [
              "<Figure size 640x480 with 1 Axes>"
            ]
          },
          "metadata": {},
          "output_type": "display_data"
        }
      ],
      "source": [
        "plt.plot(t,h)"
      ]
    },
    {
      "cell_type": "markdown",
      "metadata": {
        "id": "4tKsQLTpgYaC"
      },
      "source": [
        "task 2.2.2"
      ]
    },
    {
      "cell_type": "code",
      "execution_count": 187,
      "metadata": {},
      "outputs": [],
      "source": [
        "def iterative_solve(alfa, beta, iterations, N, h):\n",
        "    for _ in range(iterations):\n",
        "        L_alfa = N/alfa - N*np.log(beta) + np.sum(np.log(h)) - np.sum(np.power(h/beta, alfa) * np.log(h/beta))\n",
        "        L_beta = alfa/beta*(np.sum(np.power(h/beta, alfa)) - N)\n",
        "        L2_alfa = -(N/np.power(alfa,2)) - np.sum(np.power(h/beta, alfa) * np.power(np.log(h/beta),2))\n",
        "        L2_beta = (alfa/np.power(beta,2))*(N-(alfa+1)*np.sum(np.power(h/beta, alfa)))\n",
        "        L2_alfa_beta = (1/beta)*np.sum(np.power(h/beta, alfa))+(alfa/beta)*np.sum(np.power(h/beta, alfa) * np.log(h/beta)) - N/beta\n",
        "\n",
        "        alfabeta_arr = np.array([[alfa],\n",
        "                                 [beta]])\n",
        "        first_matrix = np.array([[L2_alfa, L2_alfa_beta],\n",
        "                                 [L2_alfa_beta, L2_beta]])\n",
        "        second_matrix = np.array([[-L_alfa],\n",
        "                                  [-L_beta]])\n",
        "        alfabeta_arr = alfabeta_arr + np.matmul(np.linalg.inv(first_matrix), second_matrix)\n",
        "    return alfabeta_arr.flatten()"
      ]
    },
    {
      "cell_type": "code",
      "execution_count": 188,
      "metadata": {},
      "outputs": [],
      "source": [
        "# Step 1: Estimate the PMF\n",
        "pmf = h / h.sum()\n",
        "\n",
        "params = iterative_solve(alfa=1, beta=1, iterations=20, N = len(h), h=h)"
      ]
    },
    {
      "cell_type": "code",
      "execution_count": 189,
      "metadata": {},
      "outputs": [
        {
          "name": "stdout",
          "output_type": "stream",
          "text": [
            "shape (alfa) = 0.6413706571322879\n",
            "scale (beta) = 0.5764361286794424\n"
          ]
        }
      ],
      "source": [
        "alfa = params[0]\n",
        "beta = params[1]\n",
        "print(f\"shape (alfa) = {alfa}\")\n",
        "print(f\"scale (beta) = {beta}\")"
      ]
    },
    {
      "cell_type": "code",
      "execution_count": 176,
      "metadata": {},
      "outputs": [],
      "source": [
        "#fittinf the Weibull distribution\n",
        "#weibull = alfa/beta*np.sign(t/beta)*np.power(np.abs(t/beta),alfa-1)*np.exp(-np.sign(t/beta)*np.power(np.abs(t/beta), alfa))\n",
        "#Numpy does not seem to allow fractional powers of negative numbers, so np.sign(t/beta)*np.abs((t/beta)) is a work-around"
      ]
    },
    {
      "cell_type": "code",
      "execution_count": 190,
      "metadata": {},
      "outputs": [],
      "source": [
        "def weib(x,alfa,beta, A = 1):\n",
        "    \"\"\"Weibull distribution\n",
        "\n",
        "    Args:\n",
        "        x (array): input array. In the assignment it's t\n",
        "        beta (float): Scale parameter\n",
        "        alfa (float): Shape parameter\n",
        "        A (int, optional): Amplitude parameter. Defaults to 1.\n",
        "\n",
        "    Returns:\n",
        "        array: weibull distribution\n",
        "    \"\"\"\n",
        "    return A*((alfa / beta) * (x / beta)**(alfa - 1) * np.exp(-((x / beta)**alfa)))"
      ]
    },
    {
      "cell_type": "code",
      "execution_count": 191,
      "metadata": {},
      "outputs": [],
      "source": [
        "weibull = weib(t,alfa,beta)"
      ]
    },
    {
      "cell_type": "code",
      "execution_count": 192,
      "metadata": {},
      "outputs": [
        {
          "data": {
            "image/png": "[encoded data removed]",
            "text/plain": [
              "<Figure size 640x480 with 1 Axes>"
            ]
          },
          "metadata": {},
          "output_type": "display_data"
        }
      ],
      "source": [
        "plt.plot(t,h)\n",
        "plt.plot(t, weibull, color=\"red\")\n",
        "plt.show()"
      ]
    },
    {
      "cell_type": "markdown",
      "metadata": {},
      "source": [
        "---\n",
        "task 2.3"
      ]
    },
    {
      "cell_type": "code",
      "execution_count": 193,
      "metadata": {},
      "outputs": [],
      "source": [
        "from scipy.optimize import curve_fit"
      ]
    },
    {
      "cell_type": "code",
      "execution_count": 194,
      "metadata": {},
      "outputs": [],
      "source": [
        "# Step 3: Fit the Weibull distribution to the data\n",
        "initial_guess = [1, 1, 1000]  # Initial guess for Weibull parameters (shape, scale, amplitude)\n",
        "params, covariance = curve_fit(weib, t, h, p0=initial_guess)"
      ]
    },
    {
      "cell_type": "code",
      "execution_count": 195,
      "metadata": {},
      "outputs": [
        {
          "data": {
            "text/plain": [
              "array([2.73096048e+00, 2.11024391e+02, 1.74593976e+04])"
            ]
          },
          "execution_count": 195,
          "metadata": {},
          "output_type": "execute_result"
        }
      ],
      "source": [
        "params"
      ]
    },
    {
      "cell_type": "code",
      "execution_count": 169,
      "metadata": {},
      "outputs": [],
      "source": [
        "shape, scale, amplitude = params"
      ]
    },
    {
      "cell_type": "markdown",
      "metadata": {
        "id": "Tti-zhSxgiR4"
      },
      "source": [
        "---\n",
        "task 2.4"
      ]
    },
    {
      "cell_type": "code",
      "execution_count": null,
      "metadata": {
        "id": "6qKN5WWQglZv"
      },
      "outputs": [],
      "source": []
    },
    {
      "cell_type": "markdown",
      "metadata": {
        "id": "mon5WlfJglgQ"
      },
      "source": [
        "---\n",
        "task 2.5"
      ]
    },
    {
      "cell_type": "code",
      "execution_count": null,
      "metadata": {
        "id": "C34io2n0gmxg"
      },
      "outputs": [],
      "source": []
    }
  ],
  "metadata": {
    "colab": {
      "provenance": []
    },
    "kernelspec": {
      "display_name": "Python 3",
      "name": "python3"
    },
    "language_info": {
      "codemirror_mode": {
        "name": "ipython",
        "version": 3
      },
      "file_extension": ".py",
      "mimetype": "text/x-python",
      "name": "python",
      "nbconvert_exporter": "python",
      "pygments_lexer": "ipython3",
      "version": "3.11.5"
    }
  },
  "nbformat": 4,
  "nbformat_minor": 0
}
